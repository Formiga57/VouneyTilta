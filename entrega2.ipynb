{
 "cells": [
  {
   "cell_type": "code",
   "execution_count": 6,
   "id": "2313c23e",
   "metadata": {},
   "outputs": [],
   "source": [
    "import numpy as np\n",
    "import sympy as sp\n",
    "from IPython.display import display, Math\n"
   ]
  },
  {
   "cell_type": "code",
   "execution_count": null,
   "id": "ee3e1e17",
   "metadata": {},
   "outputs": [
    {
     "data": {
      "text/plain": [
       "1.7303298106034921"
      ]
     },
     "metadata": {},
     "output_type": "display_data"
    },
    {
     "data": {
      "text/plain": [
       "'Podemos aproximar que'"
      ]
     },
     "metadata": {},
     "output_type": "display_data"
    },
    {
     "data": {
      "text/latex": [
       "$\\displaystyle \\frac{L/2}{S/2}=C_{li}q$"
      ],
      "text/plain": [
       "<IPython.core.display.Math object>"
      ]
     },
     "metadata": {},
     "output_type": "display_data"
    }
   ],
   "source": [
    "# Para o caso de carga 2\n",
    "L_caso_2 = np.array([155.78,540.69,638.48,484.19,436.33,382.20,294.12,200.86,83.25])\n",
    "L_caso_2 = L_caso_2/2 # N\n",
    "S_half=929.109 # mm^2\n",
    "L_tot_caso_2 = 3215.33/2 # N\n",
    "cli_cte = (L_tot_caso_2/2)/(S_half/2)\n",
    "display(cli_cte)\n",
    "display((r'Podemos aproximar que'),Math(r'$\\frac{L/2}{S/2}=C_{li}q$'))\n",
    "V=29.8 # m/s\n",
    "rho = 1.225 # kg/m^3\n",
    "Cordas_Asa = np.array([525,525,525,469.54,414.5,359.4,304.29,259.28,214.28])\n"
   ]
  }
 ],
 "metadata": {
  "kernelspec": {
   "display_name": "lastpy",
   "language": "python",
   "name": "python3"
  },
  "language_info": {
   "codemirror_mode": {
    "name": "ipython",
    "version": 3
   },
   "file_extension": ".py",
   "mimetype": "text/x-python",
   "name": "python",
   "nbconvert_exporter": "python",
   "pygments_lexer": "ipython3",
   "version": "3.12.7"
  }
 },
 "nbformat": 4,
 "nbformat_minor": 5
}
